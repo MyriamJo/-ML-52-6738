{
  "cells": [
    {
      "cell_type": "markdown",
      "metadata": {
        "id": "DZEtCzrtc5Fg"
      },
      "source": [
        "# Random Forest Classification"
      ]
    },
    {
      "cell_type": "markdown",
      "metadata": {
        "id": "f8k-G5hDc_fG"
      },
      "source": [
        "In this exercise we will be tuning the RandomForest hyperparameters"
      ]
    },
    {
      "cell_type": "markdown",
      "metadata": {
        "id": "5uYSnd8idHU-"
      },
      "source": [
        "Satrt by Importing useful libraries"
      ]
    },
    {
      "cell_type": "code",
      "execution_count": 29,
      "metadata": {
        "id": "x6Z64ijEc0rI"
      },
      "outputs": [],
      "source": [
        "import numpy as np\n",
        "import pandas as pd\n",
        "import matplotlib.pyplot as plt\n",
        "import seaborn as sns\n",
        "from sklearn.model_selection import train_test_split,GridSearchCV\n",
        "from sklearn.ensemble import RandomForestClassifier\n",
        "from sklearn.metrics import accuracy_score,confusion_matrix,classification_report\n",
        "from sklearn.pipeline import Pipeline\n"
      ]
    },
    {
      "cell_type": "markdown",
      "metadata": {
        "id": "AH-8MhezdL5F"
      },
      "source": [
        "Reading the data which is included in the 'data_banknote_authentication.csv' file"
      ]
    },
    {
      "cell_type": "code",
      "execution_count": 30,
      "metadata": {
        "id": "1mVMNes2dWEl"
      },
      "outputs": [],
      "source": [
        "df = pd.read_csv(\"/content/data_banknote_authentication.csv\")"
      ]
    },
    {
      "cell_type": "code",
      "source": [
        "df.info()"
      ],
      "metadata": {
        "colab": {
          "base_uri": "https://localhost:8080/"
        },
        "id": "5plIVQ3oECSJ",
        "outputId": "c323ac56-8208-4b8a-dede-0a05949f915f"
      },
      "execution_count": 31,
      "outputs": [
        {
          "output_type": "stream",
          "name": "stdout",
          "text": [
            "<class 'pandas.core.frame.DataFrame'>\n",
            "RangeIndex: 1372 entries, 0 to 1371\n",
            "Data columns (total 5 columns):\n",
            " #   Column            Non-Null Count  Dtype  \n",
            "---  ------            --------------  -----  \n",
            " 0   Variance_Wavelet  1372 non-null   float64\n",
            " 1   Skewness_Wavelet  1372 non-null   float64\n",
            " 2   Curtosis_Wavelet  1372 non-null   float64\n",
            " 3   Image_Entropy     1372 non-null   float64\n",
            " 4   Class             1372 non-null   int64  \n",
            "dtypes: float64(4), int64(1)\n",
            "memory usage: 53.7 KB\n"
          ]
        }
      ]
    },
    {
      "cell_type": "markdown",
      "metadata": {
        "id": "bGHtoilMddi1"
      },
      "source": [
        "Diving the data into features and labels (X and y)"
      ]
    },
    {
      "cell_type": "code",
      "execution_count": 32,
      "metadata": {
        "id": "Db0NdvJedk18"
      },
      "outputs": [],
      "source": [
        "X = df.drop('Class',axis=1)\n",
        "y = df['Class']"
      ]
    },
    {
      "cell_type": "markdown",
      "metadata": {
        "id": "c3Vm8Ekrdle1"
      },
      "source": [
        "Splitting the data into train and test parts"
      ]
    },
    {
      "cell_type": "code",
      "execution_count": 33,
      "metadata": {
        "id": "_hWL54FVeC48"
      },
      "outputs": [],
      "source": [
        "X_train, X_test, y_train, y_test = train_test_split(X, y, test_size=0.3, random_state=101)"
      ]
    },
    {
      "cell_type": "markdown",
      "metadata": {
        "id": "dGiaxz0seFis"
      },
      "source": [
        "Use the RandomForest model with a GridSearch to optimize 'n_estimators', 'max_features' and 'criterion' parameters"
      ]
    },
    {
      "cell_type": "code",
      "execution_count": 42,
      "metadata": {
        "id": "B67qgicXeE10"
      },
      "outputs": [],
      "source": [
        "rf = RandomForestClassifier()\n",
        "\n",
        "\n",
        "param_grid = {\n",
        "    'rand_forest__n_estimators': np.arange(2, 10, 1),\n",
        "    'rand_forest__max_features': ['sqrt', 'log2'],\n",
        "    'rand_forest__criterion': ['gini', 'entropy']\n",
        "}\n",
        "\n",
        "operation = [('rand_forest',rf)]\n",
        "pipe = Pipeline(operation)\n",
        "full_search = GridSearchCV(pipe,param_grid,scoring='accuracy', cv=5, n_jobs=-1)"
      ]
    },
    {
      "cell_type": "code",
      "source": [
        "full_search.fit(X_train,y_train)\n",
        "full_search.best_estimator_.get_params()"
      ],
      "metadata": {
        "colab": {
          "base_uri": "https://localhost:8080/"
        },
        "id": "0hpAVsUaGeiQ",
        "outputId": "bbbff679-1852-4dc4-bd3d-1c3af1012053"
      },
      "execution_count": 43,
      "outputs": [
        {
          "output_type": "execute_result",
          "data": {
            "text/plain": [
              "{'memory': None,\n",
              " 'steps': [('rand_forest',\n",
              "   RandomForestClassifier(criterion='entropy', n_estimators=7))],\n",
              " 'transform_input': None,\n",
              " 'verbose': False,\n",
              " 'rand_forest': RandomForestClassifier(criterion='entropy', n_estimators=7),\n",
              " 'rand_forest__bootstrap': True,\n",
              " 'rand_forest__ccp_alpha': 0.0,\n",
              " 'rand_forest__class_weight': None,\n",
              " 'rand_forest__criterion': 'entropy',\n",
              " 'rand_forest__max_depth': None,\n",
              " 'rand_forest__max_features': 'sqrt',\n",
              " 'rand_forest__max_leaf_nodes': None,\n",
              " 'rand_forest__max_samples': None,\n",
              " 'rand_forest__min_impurity_decrease': 0.0,\n",
              " 'rand_forest__min_samples_leaf': 1,\n",
              " 'rand_forest__min_samples_split': 2,\n",
              " 'rand_forest__min_weight_fraction_leaf': 0.0,\n",
              " 'rand_forest__monotonic_cst': None,\n",
              " 'rand_forest__n_estimators': 7,\n",
              " 'rand_forest__n_jobs': None,\n",
              " 'rand_forest__oob_score': False,\n",
              " 'rand_forest__random_state': None,\n",
              " 'rand_forest__verbose': 0,\n",
              " 'rand_forest__warm_start': False}"
            ]
          },
          "metadata": {},
          "execution_count": 43
        }
      ]
    },
    {
      "cell_type": "code",
      "source": [
        "pred=full_search.predict(X_test)"
      ],
      "metadata": {
        "id": "bEBFEMVSHPXr"
      },
      "execution_count": 41,
      "outputs": []
    },
    {
      "cell_type": "markdown",
      "metadata": {
        "id": "wuDEaG8_edAa"
      },
      "source": [
        "Evaluate the model by displaying a confusion matrix and a classification report"
      ]
    },
    {
      "cell_type": "code",
      "execution_count": 44,
      "metadata": {
        "id": "Acd-A8nBejkD",
        "colab": {
          "base_uri": "https://localhost:8080/"
        },
        "outputId": "9bc6ffc5-daf1-4301-cdba-2d4503ae81fe"
      },
      "outputs": [
        {
          "output_type": "execute_result",
          "data": {
            "text/plain": [
              "array([[231,   7],\n",
              "       [  1, 173]])"
            ]
          },
          "metadata": {},
          "execution_count": 44
        }
      ],
      "source": [
        "confusion_matrix(y_test,pred)"
      ]
    },
    {
      "cell_type": "code",
      "source": [
        "print(classification_report(y_test,pred))"
      ],
      "metadata": {
        "id": "On3zVOijHUNq",
        "colab": {
          "base_uri": "https://localhost:8080/"
        },
        "outputId": "4ca2cb13-70d9-45f9-f924-340ae88935bd"
      },
      "execution_count": 45,
      "outputs": [
        {
          "output_type": "stream",
          "name": "stdout",
          "text": [
            "              precision    recall  f1-score   support\n",
            "\n",
            "           0       1.00      0.97      0.98       238\n",
            "           1       0.96      0.99      0.98       174\n",
            "\n",
            "    accuracy                           0.98       412\n",
            "   macro avg       0.98      0.98      0.98       412\n",
            "weighted avg       0.98      0.98      0.98       412\n",
            "\n"
          ]
        }
      ]
    },
    {
      "cell_type": "code",
      "source": [],
      "metadata": {
        "id": "RsYHY07rKzKj"
      },
      "execution_count": null,
      "outputs": []
    }
  ],
  "metadata": {
    "colab": {
      "provenance": []
    },
    "kernelspec": {
      "display_name": "Python 3",
      "name": "python3"
    },
    "language_info": {
      "name": "python"
    }
  },
  "nbformat": 4,
  "nbformat_minor": 0
}